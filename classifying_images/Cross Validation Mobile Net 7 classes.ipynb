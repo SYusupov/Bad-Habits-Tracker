{
 "cells": [
  {
   "cell_type": "code",
   "execution_count": 1,
   "metadata": {},
   "outputs": [
    {
     "data": {
      "application/javascript": [
       "if (!(\"Notification\" in window)) {\n",
       "    alert(\"This browser does not support desktop notifications, so the %%notify magic will not work.\");\n",
       "} else if (Notification.permission !== 'granted' && Notification.permission !== 'denied') {\n",
       "    Notification.requestPermission(function (permission) {\n",
       "        if(!('permission' in Notification)) {\n",
       "            Notification.permission = permission;\n",
       "        }\n",
       "    })\n",
       "}\n"
      ],
      "text/plain": [
       "<IPython.core.display.Javascript object>"
      ]
     },
     "metadata": {},
     "output_type": "display_data"
    }
   ],
   "source": [
    "import os\n",
    "import glob\n",
    "import csv\n",
    "\n",
    "import pandas as pd\n",
    "from sklearn.model_selection import KFold, StratifiedKFold\n",
    "\n",
    "from keras.applications import mobilenet\n",
    "from keras.preprocessing.image import ImageDataGenerator\n",
    "from keras.callbacks import EarlyStopping\n",
    "from keras import layers, models\n",
    "import numpy as np\n",
    "import tensorflow as tf\n",
    "\n",
    "from csv import reader\n",
    "\n",
    "# libraries for outputting camera images\n",
    "import cv2\n",
    "from PIL import Image\n",
    "import matplotlib.pyplot as plt\n",
    "from IPython.display import clear_output\n",
    "\n",
    "%load_ext jupyternotify"
   ]
  },
  {
   "cell_type": "code",
   "execution_count": 2,
   "metadata": {},
   "outputs": [],
   "source": [
    "# 'data/train_cv_224/training_labels_handOverFace_n424.csv'\n",
    "csv_filename = 'data/train_cv_224/training_labels_handOverFace_n424_5cats.csv'\n",
    "targetDir = 'data/train_cv_224'\n",
    "\n",
    "train_data = pd.read_csv(csv_filename, sep=',', header=0)\n",
    "\n",
    "# settuping the kfolds\n",
    "kf = KFold(n_splits=10, shuffle=True)\n",
    "skf = StratifiedKFold(n_splits=5, shuffle=True)"
   ]
  },
  {
   "cell_type": "code",
   "execution_count": 3,
   "metadata": {},
   "outputs": [],
   "source": [
    "idg = ImageDataGenerator(preprocessing_function=mobilenet.preprocess_input)"
   ]
  },
  {
   "cell_type": "code",
   "execution_count": null,
   "metadata": {},
   "outputs": [],
   "source": [
    "img_size=224\n",
    "columns = ['0','1','2','3','4']\n",
    "\n",
    "def create_new_model():\n",
    "    base_model = mobilenet.MobileNet(weights='imagenet', \n",
    "                                     include_top=False, \n",
    "                                     input_shape=(img_size, img_size, 3))\n",
    "    for layer in base_model.layers:\n",
    "        layer.trainable = False\n",
    "    x = base_model.output\n",
    "    x = layers.GlobalAveragePooling2D()(x)\n",
    "    x = layers.Dense(1024, activation='relu')(x)\n",
    "    x = layers.BatchNormalization()(x)\n",
    "    x = layers.Dense(512, activation='relu')(x)\n",
    "    x = layers.Dense(len(columns), activation='softmax')(x)\n",
    "    model = models.Model(inputs=base_model.input, outputs=x)\n",
    "    \n",
    "    model.compile(optimizer='adam', \n",
    "                  loss='categorical_crossentropy', \n",
    "                  metrics=['accuracy'])\n",
    "    \n",
    "    return model\n",
    "\n",
    "early_stopping_monitor = EarlyStopping(\n",
    "    monitor='val_accuracy',\n",
    "    min_delta=0,\n",
    "    patience=0,\n",
    "    verbose=0,\n",
    "    mode='auto',\n",
    "    baseline=None,\n",
    "    restore_best_weights=True\n",
    ")\n",
    "\n",
    "model_checkpoint_callback = tf.keras.callbacks.ModelCheckpoint(\n",
    "    filepath='mobileNet_n871_5cats-{epoch:02d}-{val_loss:.2f}.h5', \n",
    "    verbose=1, monitor='val_accuracy', save_best_only=True\n",
    ")"
   ]
  },
  {
   "cell_type": "code",
   "execution_count": null,
   "metadata": {},
   "outputs": [],
   "source": [
    "%%notify\n",
    "### FOR CROSS VALIDATION\n",
    "## running only one of it\n",
    "valid_accuracy = []\n",
    "valid_loss = []\n",
    "batch_size=32\n",
    "num_epochs=10\n",
    "num_samples = train_data.shape[0]\n",
    "\n",
    "for train_index, val_index in list(kf.split(np.zeros(num_samples), train_data)):\n",
    "    training_data = train_data.iloc[train_index]\n",
    "    validation_data = train_data.iloc[val_index]\n",
    "    \n",
    "    # one hot encoding because it is softmax    \n",
    "    train_data_generator = idg.flow_from_dataframe(dataframe=training_data, directory=targetDir,\n",
    "                                                  x_col=\"filename\", \n",
    "                                                   y_col=columns,\n",
    "                                                  shuffle=True,\n",
    "                                                  target_size=(img_size, img_size), \n",
    "                                                   batch_size=batch_size, \n",
    "                                                  class_mode='raw')\n",
    "    valid_data_generator = idg.flow_from_dataframe(dataframe=validation_data, directory=targetDir,\n",
    "                                                  x_col=\"filename\", \n",
    "                                                   y_col=columns,\n",
    "                                                  shuffle=True,\n",
    "                                                  target_size=(img_size, img_size), \n",
    "                                                   batch_size=batch_size,\n",
    "                                                  class_mode='raw')\n",
    "    \n",
    "    model = create_new_model()\n",
    "    \n",
    "    step_size = train_data_generator.n//train_data_generator.batch_size\n",
    "    step_size_valid = valid_data_generator.n//valid_data_generator.batch_size\n",
    "\n",
    "    with tf.device('/device:GPU:0'):\n",
    "        history = model.fit(train_data_generator, epochs=num_epochs, steps_per_epoch=step_size, \n",
    "                        validation_data=valid_data_generator,\n",
    "                       validation_steps=step_size_valid,\n",
    "                        callbacks=[])\n",
    "    \n",
    "    results = model.evaluate(valid_data_generator)\n",
    "    results = dict(zip(model.metrics_names, results))\n",
    "    \n",
    "    valid_accuracy.append(results['accuracy'])\n",
    "    valid_loss.append(results['loss'])"
   ]
  },
  {
   "cell_type": "code",
   "execution_count": null,
   "metadata": {},
   "outputs": [],
   "source": [
    "### FOR GETTING A GOOD MODEL\n",
    "### FOR CROSS VALIDATION\n",
    "%%notify\n",
    "## running only one of it\n",
    "valid_accuracy = []\n",
    "valid_loss = []\n",
    "batch_size=32\n",
    "num_epochs=20\n",
    "num_samples = train_data.shape[0]\n",
    "\n",
    "for train_index, val_index in list(kf.split(np.zeros(num_samples), train_data)):\n",
    "    training_data = train_data.iloc[train_index]\n",
    "    validation_data = train_data.iloc[val_index]\n",
    "    \n",
    "    # one hot encoding because it is softmax    \n",
    "    train_data_generator = idg.flow_from_dataframe(dataframe=training_data, directory=targetDir,\n",
    "                                                  x_col=\"filename\", \n",
    "                                                   y_col=columns,\n",
    "                                                  shuffle=True,\n",
    "                                                  target_size=(img_size, img_size), \n",
    "                                                   batch_size=batch_size, \n",
    "                                                  class_mode='raw')\n",
    "    valid_data_generator = idg.flow_from_dataframe(dataframe=validation_data, directory=targetDir,\n",
    "                                                  x_col=\"filename\", \n",
    "                                                   y_col=columns,\n",
    "                                                  shuffle=True,\n",
    "                                                  target_size=(img_size, img_size), \n",
    "                                                   batch_size=batch_size,\n",
    "                                                  class_mode='raw')\n",
    "    \n",
    "    model = create_new_model()\n",
    "    \n",
    "    step_size = train_data_generator.n//train_data_generator.batch_size\n",
    "    step_size_valid = valid_data_generator.n//valid_data_generator.batch_size\n",
    "\n",
    "    with tf.device('/device:GPU:0'):\n",
    "        history = model.fit(train_data_generator, epochs=num_epochs, steps_per_epoch=step_size, \n",
    "                        validation_data=valid_data_generator,\n",
    "                       validation_steps=step_size_valid,\n",
    "                        callbacks=[model_checkpoint_callback])\n",
    "    \n",
    "    results = model.evaluate(valid_data_generator)\n",
    "    results = dict(zip(model.metrics_names, results))\n",
    "    \n",
    "    valid_accuracy.append(results['accuracy'])\n",
    "    valid_loss.append(results['loss'])\n",
    "    break"
   ]
  },
  {
   "cell_type": "code",
   "execution_count": null,
   "metadata": {},
   "outputs": [],
   "source": [
    "model.save('mobileNet_n871_5cats-0.83.h5')"
   ]
  },
  {
   "cell_type": "code",
   "execution_count": null,
   "metadata": {},
   "outputs": [],
   "source": [
    "with open('trainHistoryDict_mobileNet_n871_6cats', 'wb') as file_pi:\n",
    "    pickle.dump(history.history, file_pi)"
   ]
  },
  {
   "cell_type": "code",
   "execution_count": null,
   "metadata": {},
   "outputs": [],
   "source": [
    "import pickle\n",
    "with open(\"valid_loss_accuracy_k10_n424_cats6.pickle\", \"wb\") as handle:\n",
    "    pickle.dump([valid_loss, valid_accuracy], handle, protocol=pickle.HIGHEST_PROTOCOL)"
   ]
  },
  {
   "cell_type": "code",
   "execution_count": null,
   "metadata": {},
   "outputs": [],
   "source": [
    "with open(\"valid_loss_accuracy_k10_n871_cats6.pickle\", \"rb\") as handle:\n",
    "    [valid_loss, valid_accuracy] = pickle.load(handle)"
   ]
  },
  {
   "cell_type": "code",
   "execution_count": null,
   "metadata": {},
   "outputs": [],
   "source": [
    "np.mean(valid_accuracy)"
   ]
  },
  {
   "cell_type": "code",
   "execution_count": null,
   "metadata": {},
   "outputs": [],
   "source": [
    "model.save('k10_n424_cats6_v1.h5', save_format='h5')"
   ]
  },
  {
   "cell_type": "code",
   "execution_count": null,
   "metadata": {},
   "outputs": [],
   "source": [
    "predict_labels = {\n",
    "    0: 'Nobody',\n",
    "    1: 'Normal sitting',\n",
    "    2: 'Nose Picking',\n",
    "    3: 'Biting Nails',\n",
    "    4: 'Touching eyes',\n",
    "    5: 'Touching the rest of face'\n",
    "}\n",
    "\n",
    "#Load the saved model\n",
    "model = models.load_model('k10_n871_cats6_v1.h5')\n",
    "video = cv2.VideoCapture(0)\n",
    "\n",
    "while True: \n",
    "    _, frame = video.read()\n",
    "    RGB_img = cv2.cvtColor(frame, cv2.COLOR_BGR2RGB)\n",
    "    im = Image.fromarray(RGB_img)\n",
    "    \n",
    "    im = im.resize((224, 224))\n",
    "    img_array = np.array(im)\n",
    "    img_array = np.expand_dims(img_array, axis=0)\n",
    "    print(img_array.shape)\n",
    "    img_array = mobilenet.preprocess_input(img_array)\n",
    "    print(img_array.shape)\n",
    "    \n",
    "    predictions = model.predict(img_array)\n",
    "    prediction = predict_labels[np.argmax(predictions)]\n",
    "    plt.imshow(RGB_img)\n",
    "    plt.show()\n",
    "    print(prediction)\n",
    "    clear_output(wait=True)\n",
    "\n",
    "video.release()\n",
    "cv2.destroyAllWindows()"
   ]
  },
  {
   "cell_type": "code",
   "execution_count": null,
   "metadata": {},
   "outputs": [],
   "source": [
    "models.load_model('mobileNet_n871_6cats')"
   ]
  }
 ],
 "metadata": {
  "kernelspec": {
   "display_name": "Python 3",
   "language": "python",
   "name": "python3"
  },
  "language_info": {
   "codemirror_mode": {
    "name": "ipython",
    "version": 3
   },
   "file_extension": ".py",
   "mimetype": "text/x-python",
   "name": "python",
   "nbconvert_exporter": "python",
   "pygments_lexer": "ipython3",
   "version": "3.6.9"
  }
 },
 "nbformat": 4,
 "nbformat_minor": 2
}
